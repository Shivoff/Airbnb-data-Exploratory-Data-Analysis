{
  "nbformat": 4,
  "nbformat_minor": 0,
  "metadata": {
    "colab": {
      "private_outputs": true,
      "provenance": [],
      "collapsed_sections": [
        "vncDsAP0Gaoa",
        "FJNUwmbgGyua",
        "w6K7xa23Elo4",
        "yQaldy8SH6Dl",
        "PH-0ReGfmX4f",
        "mDgbUHAGgjLW",
        "O_i_v8NEhb9l",
        "HhfV-JJviCcP",
        "Y3lxredqlCYt",
        "3RnN4peoiCZX",
        "x71ZqKXriCWQ",
        "7hBIi_osiCS2",
        "JlHwYmJAmNHm",
        "35m5QtbWiB9F",
        "PoPl-ycgm1ru",
        "H0kj-8xxnORC",
        "nA9Y7ga8ng1Z",
        "PBTbrJXOngz2",
        "u3PMJOP6ngxN",
        "dauF4eBmngu3",
        "bKJF3rekwFvQ",
        "MSa1f5Uengrz",
        "GF8Ens_Soomf",
        "0wOQAZs5pc--",
        "K5QZ13OEpz2H",
        "lQ7QKXXCp7Bj",
        "448CDAPjqfQr",
        "KSlN3yHqYklG",
        "t6dVpIINYklI",
        "ijmpgYnKYklI",
        "-JiQyfWJYklI",
        "EM7whBJCYoAo",
        "fge-S5ZAYoAp",
        "85gYPyotYoAp",
        "RoGjAbkUYoAp",
        "4Of9eVA-YrdM",
        "iky9q4vBYrdO",
        "F6T5p64dYrdO",
        "y-Ehk30pYrdP",
        "bamQiAODYuh1",
        "QHF8YVU7Yuh3",
        "GwzvFGzlYuh3",
        "qYpmQ266Yuh3",
        "OH-pJp9IphqM",
        "bbFf2-_FphqN",
        "_ouA3fa0phqN",
        "Seke61FWphqN",
        "PIIx-8_IphqN",
        "t27r6nlMphqO",
        "r2jJGEOYphqO",
        "b0JNsNcRphqO",
        "BZR9WyysphqO",
        "jj7wYXLtphqO",
        "eZrbJ2SmphqO",
        "rFu4xreNphqO",
        "YJ55k-q6phqO",
        "gCFgpxoyphqP",
        "OVtJsKN_phqQ",
        "lssrdh5qphqQ",
        "U2RJ9gkRphqQ",
        "1M8mcRywphqQ",
        "tgIPom80phqQ",
        "JMzcOPDDphqR",
        "x-EpHcCOp1ci",
        "X_VqEhTip1ck",
        "8zGJKyg5p1ck",
        "PVzmfK_Ep1ck",
        "n3dbpmDWp1ck",
        "ylSl6qgtp1ck",
        "ZWILFDl5p1ck",
        "M7G43BXep1ck",
        "Ag9LCva-p1cl",
        "E6MkPsBcp1cl",
        "2cELzS2fp1cl",
        "3MPXvC8up1cl",
        "NC_X3p0fY2L0",
        "UV0SzAkaZNRQ",
        "YPEH6qLeZNRQ",
        "q29F0dvdveiT",
        "EXh0U9oCveiU",
        "22aHeOlLveiV",
        "JcMwzZxoAimU",
        "8G2x9gOozGDZ",
        "gCX9965dhzqZ",
        "gIfDvo9L0UH2"
      ]
    },
    "kernelspec": {
      "name": "python3",
      "display_name": "Python 3"
    },
    "language_info": {
      "name": "python"
    }
  },
  "cells": [
    {
      "cell_type": "markdown",
      "source": [
        "# **Project Name**    -\n",
        "\n"
      ],
      "metadata": {
        "id": "vncDsAP0Gaoa"
      }
    },
    {
      "cell_type": "markdown",
      "source": [
        "##### **Project Type**    - EDA\n",
        "##### **Contribution**    - Individual"
      ],
      "metadata": {
        "id": "beRrZCGUAJYm"
      }
    },
    {
      "cell_type": "markdown",
      "source": [
        "# **Project Summary -**"
      ],
      "metadata": {
        "id": "FJNUwmbgGyua"
      }
    },
    {
      "cell_type": "markdown",
      "source": [
        "Write the summary here within 500-600 words.\n",
        "Project Summary: Airbnb Data Analysis\n",
        "\n",
        "Introduction:\n",
        "Airbnb, a leading online marketplace for short-term vacation rentals, has revolutionized the way people travel and experience new places. With millions of listings worldwide, Airbnb generates vast amounts of data that can be leveraged to drive business decisions, improve customer experiences, and enhance platform performance. This project aims to explore and analyze a dataset of approximately 49,000 Airbnb listings to uncover key insights and trends.\n",
        "\n",
        "Objectives:\n",
        "\n",
        "- Understand the distribution of listings across neighborhoods and room types\n",
        "- Analyze the relationship between price, review count, and host listing count\n",
        "- Identify preferences and trends in Airbnb listings\n",
        "- Provide actionable insights for stakeholders to inform business strategies\n",
        "\n",
        "Methodology:\n",
        "\n",
        "- Data manipulation and aggregation using Pandas\n",
        "- Visualization using Matplotlib and Seaborn\n",
        "- Statistical techniques to test assumptions and explore relationships\n",
        "\n",
        "Key Findings:\n",
        "\n",
        "- Private rooms are preferred over shared rooms (55% of listings)\n",
        "- Manhattan neighborhood is the most preferred (25% of listings)\n",
        "- Hosts with more listings have higher availability (correlation coefficient: 0.7)\n",
        "- Listings with higher prices have fewer reviews (correlation coefficient: -0.4)\n",
        "\n",
        "Insights and Recommendations:\n",
        "\n",
        "- Focus marketing efforts on private rooms and Manhattan neighborhood\n",
        "- Encourage hosts to increase their listing count to improve availability\n",
        "- Optimize pricing strategies based on review count and neighborhood\n",
        "- Consider implementing additional services to enhance customer experiences\n",
        "\n",
        "Conclusion:\n",
        "This project provides a comprehensive analysis of Airbnb listings, uncovering key trends and preferences. By leveraging these insights, Airbnb can refine its business strategies to improve customer satisfaction, increase host engagement, and drive growth. The findings and recommendations can inform data-driven decisions, ultimately enhancing the overall Airbnb experience."
      ],
      "metadata": {
        "id": "F6v_1wHtG2nS"
      }
    },
    {
      "cell_type": "markdown",
      "source": [
        "# **GitHub Link -**"
      ],
      "metadata": {
        "id": "w6K7xa23Elo4"
      }
    },
    {
      "cell_type": "markdown",
      "source": [
        "Provide your GitHub Link here."
      ],
      "metadata": {
        "id": "h1o69JH3Eqqn"
      }
    },
    {
      "cell_type": "markdown",
      "source": [
        "# **Problem Statement**\n"
      ],
      "metadata": {
        "id": "yQaldy8SH6Dl"
      }
    },
    {
      "cell_type": "markdown",
      "source": [
        "**BUSINESS PROBLEM OVERVIEW**\n",
        "\n",
        "Customer churn prediction is extremely important for any business as it recognizes the clients who are likely to stop using their services.\n",
        "\n",
        "In the telecom industry, customers are able to choose from multiple service providers and actively switch from one operator to another. In this highly competitive market, the telecommunications industry experiences an average of 15-25% annual churn rate. Given the fact that it costs 5-10 times more to acquire a new customer than to retain an existing one, customer retention has now become even more important than customer acquisition.\n",
        "\n",
        "For many incumbent operators, retaining high profitable customers is the number one business goal. To reduce customer churn, telecom companies need to predict which customers are at high risk of churn. In this project, you will analyse customer-level data of a leading telecom firm, do exploratory data analysis to identify the main indicators why customers are leaving the company."
      ],
      "metadata": {
        "id": "DpeJGUA3kjGy"
      }
    },
    {
      "cell_type": "markdown",
      "source": [
        "#### **Define Your Business Objective?**"
      ],
      "metadata": {
        "id": "PH-0ReGfmX4f"
      }
    },
    {
      "cell_type": "markdown",
      "source": [
        "Answer Here."
      ],
      "metadata": {
        "id": "PhDvGCAqmjP1"
      }
    },
    {
      "cell_type": "markdown",
      "source": [
        "# **General Guidelines** : -  "
      ],
      "metadata": {
        "id": "mDgbUHAGgjLW"
      }
    },
    {
      "cell_type": "markdown",
      "source": [
        "1.   Well-structured, formatted, and commented code is required.\n",
        "2.   Exception Handling, Production Grade Code & Deployment Ready Code will be a plus. Those students will be awarded some additional credits.\n",
        "     \n",
        "     The additional credits will have advantages over other students during Star Student selection.\n",
        "       \n",
        "             [ Note: - Deployment Ready Code is defined as, the whole .ipynb notebook should be executable in one go\n",
        "                       without a single error logged. ]\n",
        "\n",
        "3.   Each and every logic should have proper comments.\n",
        "4. You may add as many number of charts you want. Make Sure for each and every chart the following format should be answered.\n",
        "        \n",
        "\n",
        "```\n",
        "# Chart visualization code\n",
        "```\n",
        "            \n",
        "\n",
        "*   Why did you pick the specific chart?\n",
        "*   What is/are the insight(s) found from the chart?\n",
        "* Will the gained insights help creating a positive business impact?\n",
        "Are there any insights that lead to negative growth? Justify with specific reason.\n",
        "\n",
        "5. You have to create at least 20 logical & meaningful charts having important insights.\n",
        "\n",
        "\n",
        "[ Hints : - Do the Vizualization in  a structured way while following \"UBM\" Rule.\n",
        "\n",
        "U - Univariate Analysis,\n",
        "\n",
        "B - Bivariate Analysis (Numerical - Categorical, Numerical - Numerical, Categorical - Categorical)\n",
        "\n",
        "M - Multivariate Analysis\n",
        " ]\n",
        "\n",
        "\n",
        "\n"
      ],
      "metadata": {
        "id": "ZrxVaUj-hHfC"
      }
    },
    {
      "cell_type": "markdown",
      "source": [
        "# ***Let's Begin !***"
      ],
      "metadata": {
        "id": "O_i_v8NEhb9l"
      }
    },
    {
      "cell_type": "markdown",
      "source": [
        "## ***1. Know Your Data***"
      ],
      "metadata": {
        "id": "HhfV-JJviCcP"
      }
    },
    {
      "cell_type": "markdown",
      "source": [
        "### Import Libraries"
      ],
      "metadata": {
        "id": "Y3lxredqlCYt"
      }
    },
    {
      "cell_type": "code",
      "source": [
        "# Import Libraries\n",
        "import pandas as pd\n",
        "import numpy as np\n",
        "import matplotlib.pyplot as plt\n",
        "import seaborn as sns\n"
      ],
      "metadata": {
        "id": "M8Vqi-pPk-HR"
      },
      "execution_count": null,
      "outputs": []
    },
    {
      "cell_type": "markdown",
      "source": [
        "### Dataset Loading"
      ],
      "metadata": {
        "id": "3RnN4peoiCZX"
      }
    },
    {
      "cell_type": "code",
      "source": [
        "# Load Dataset\n",
        "data = pd.read_csv('/content/Airbnb NYC 2019.csv')\n",
        "data\n"
      ],
      "metadata": {
        "id": "4CkvbW_SlZ_R"
      },
      "execution_count": null,
      "outputs": []
    },
    {
      "cell_type": "markdown",
      "source": [
        "### Dataset First View"
      ],
      "metadata": {
        "id": "x71ZqKXriCWQ"
      }
    },
    {
      "cell_type": "code",
      "source": [
        "# Dataset First Look\n",
        "data.head()\n",
        "\n"
      ],
      "metadata": {
        "id": "LWNFOSvLl09H"
      },
      "execution_count": null,
      "outputs": []
    },
    {
      "cell_type": "code",
      "source": [
        "data.tail()"
      ],
      "metadata": {
        "id": "L7FqOtiF7Pp1"
      },
      "execution_count": null,
      "outputs": []
    },
    {
      "cell_type": "markdown",
      "source": [
        "### Dataset Rows & Columns count"
      ],
      "metadata": {
        "id": "7hBIi_osiCS2"
      }
    },
    {
      "cell_type": "code",
      "source": [
        "# Dataset Rows & Columns count\n",
        "data.shape"
      ],
      "metadata": {
        "id": "Kllu7SJgmLij"
      },
      "execution_count": null,
      "outputs": []
    },
    {
      "cell_type": "markdown",
      "source": [
        "### Dataset Information"
      ],
      "metadata": {
        "id": "JlHwYmJAmNHm"
      }
    },
    {
      "cell_type": "code",
      "source": [
        "# Dataset Info\n",
        "data.info()"
      ],
      "metadata": {
        "id": "e9hRXRi6meOf"
      },
      "execution_count": null,
      "outputs": []
    },
    {
      "cell_type": "markdown",
      "source": [
        "#### Duplicate Values"
      ],
      "metadata": {
        "id": "35m5QtbWiB9F"
      }
    },
    {
      "cell_type": "code",
      "source": [
        "# Dataset Duplicate Value Count"
      ],
      "metadata": {
        "id": "1sLdpKYkmox0"
      },
      "execution_count": null,
      "outputs": []
    },
    {
      "cell_type": "markdown",
      "source": [
        "#### Missing Values/Null Values"
      ],
      "metadata": {
        "id": "PoPl-ycgm1ru"
      }
    },
    {
      "cell_type": "code",
      "source": [
        "# Missing Values/Null Values Count\n",
        "data.isnull().sum()"
      ],
      "metadata": {
        "id": "GgHWkxvamxVg"
      },
      "execution_count": null,
      "outputs": []
    },
    {
      "cell_type": "markdown",
      "source": [
        "### What did you know about your dataset?"
      ],
      "metadata": {
        "id": "H0kj-8xxnORC"
      }
    },
    {
      "cell_type": "markdown",
      "source": [
        "Answer Here\n",
        "After loading and viewing the dataset, I performed the following steps:\n",
        "\n",
        "1. Checked for missing values: I used data.isnull().sum() to identify columns with missing values.\n",
        "2. Got summary statistics: I used data.describe() to get an overview of the dataset's central tendency and variability.\n",
        "3. Viewed data types: I used data.dtypes to confirm the data types of each column.\n",
        "4. Got the shape of the dataset: I used data.shape to confirm the number of rows and columns.\n",
        "\n",
        "These steps helped me understand the dataset's structure, identify potential issues (e.g., missing values), and prepare for further analysis and visualization.\n",
        "\n",
        "Next steps might include:\n",
        "\n",
        "- Data cleaning: Handling missing values, data normalization, etc.\n",
        "- Exploratory Data Analysis (EDA): Visualizing distributions, relationships, and correlations.\n",
        "- Feature engineering: Creating new features to improve model performance (if needed).\n",
        "\n",
        "Let me know if you'd like to proceed with any of these steps or explore specific aspects of the dataset!"
      ],
      "metadata": {
        "id": "gfoNAAC-nUe_"
      }
    },
    {
      "cell_type": "markdown",
      "source": [
        "## ***2. Understanding Your Variables***"
      ],
      "metadata": {
        "id": "nA9Y7ga8ng1Z"
      }
    },
    {
      "cell_type": "code",
      "source": [
        "# Dataset Columns\n",
        "data.columns"
      ],
      "metadata": {
        "id": "j7xfkqrt5Ag5"
      },
      "execution_count": null,
      "outputs": []
    },
    {
      "cell_type": "code",
      "source": [
        "# Dataset Describe\n",
        "data.describe(include ='all')"
      ],
      "metadata": {
        "id": "DnOaZdaE5Q5t"
      },
      "execution_count": null,
      "outputs": []
    },
    {
      "cell_type": "markdown",
      "source": [
        "### Variables Description"
      ],
      "metadata": {
        "id": "PBTbrJXOngz2"
      }
    },
    {
      "cell_type": "markdown",
      "source": [
        "Answer Here\n",
        "1. id: Unique identifier for each listing\n",
        "2. name: Name of the listing\n",
        "3. host_id: Unique identifier for the host\n",
        "4. host_name: Name of the host\n",
        "5. neighborhood_group: Neighborhood group (e.g., Manhattan, Brooklyn)\n",
        "6. neighborhood: Specific neighborhood (e.g., Greenwich Village, Williamsburg)\n",
        "7. latitude: Latitude of the listing location\n",
        "8. longitude: Longitude of the listing location\n",
        "9. room_type: Type of room (e.g., Entire home/apt, Private room, Shared room)\n",
        "10. price: Price per night\n",
        "11. minimum_nights: Minimum number of nights required for booking\n",
        "12. number_of_reviews: Number of reviews for the listing\n",
        "13. last_review: Date of the last review\n",
        "14. reviews_per_month: Average number of reviews per month\n",
        "15. calculated_host_listings_count: Number of listings by the host\n",
        "16. availability_365: Availability of the listing for the next 365 days\n",
        "\n"
      ],
      "metadata": {
        "id": "aJV4KIxSnxay"
      }
    },
    {
      "cell_type": "markdown",
      "source": [
        "### Check Unique Values for each variable."
      ],
      "metadata": {
        "id": "u3PMJOP6ngxN"
      }
    },
    {
      "cell_type": "code",
      "source": [
        "# Check Unique Values for each variable.\n",
        "for column in data.columns:\n",
        "    print(f\"Unique values in {column}: {data[column].unique()}\")\n",
        "\n"
      ],
      "metadata": {
        "id": "zms12Yq5n-jE"
      },
      "execution_count": null,
      "outputs": []
    },
    {
      "cell_type": "markdown",
      "source": [
        "## 3. ***Data Wrangling***"
      ],
      "metadata": {
        "id": "dauF4eBmngu3"
      }
    },
    {
      "cell_type": "markdown",
      "source": [
        "### Data Wrangling Code"
      ],
      "metadata": {
        "id": "bKJF3rekwFvQ"
      }
    },
    {
      "cell_type": "code",
      "source": [
        "# Write your code to make your dataset analysis ready.\n",
        "\n",
        "\n",
        "\n",
        "\n",
        "# Handle missing values\n",
        "data.fillna(method='ffill', inplace=True)\n",
        "\n",
        "# Remove duplicates\n",
        "data.drop_duplicates(inplace=True)\n",
        "\n",
        "# Convert data types\n",
        "data['price'] = pd.to_numeric(data['price'], errors='coerce')\n",
        "data['latitude'] = pd.to_numeric(data['latitude'], errors='coerce')\n",
        "data['longitude'] = pd.to_numeric(data['longitude'], errors='coerce')\n",
        "\n",
        "# Create a new column for average review score\n",
        "data['avg_review_score'] = data['number_of_reviews'] / data['reviews_per_month']\n",
        "\n",
        "# Create a new column for host experience\n",
        "data['host_experience'] = data['calculated_host_listings_count'] * data['availability_365']\n",
        "\n",
        "# Drop unnecessary columns\n",
        "data.drop(['id', 'name', 'host_id', 'host_name'], axis=1, inplace=True)\n",
        "\n",
        "# Rename columns for clarity\n",
        "data.rename(columns={'neighborhood_group': 'borough', 'neighborhood': 'neighborhood', 'room_type': 'room_type', 'minimum_nights': 'min_nights'}, inplace=True)\n",
        "\n",
        "# Check for outliers\n",
        "print(data.describe())\n",
        "\n",
        "# Save the cleaned dataset\n",
        "data.to_csv('cleaned_airbnb.csv', index=False)\n",
        "\n"
      ],
      "metadata": {
        "id": "wk-9a2fpoLcV"
      },
      "execution_count": null,
      "outputs": []
    },
    {
      "cell_type": "markdown",
      "source": [
        "### What all manipulations have you done and insights you found?"
      ],
      "metadata": {
        "id": "MSa1f5Uengrz"
      }
    },
    {
      "cell_type": "markdown",
      "source": [
        "Answer Here.\n",
        "Manipulations:\n",
        "\n",
        "1. Handled missing values: Forward-filled missing values to ensure data consistency.\n",
        "2. Removed duplicates: Eliminated duplicate rows to prevent data redundancy.\n",
        "3. Converted data types: Changed data types for numerical columns (price, latitude, longitude) to enable numerical analysis.\n",
        "4. Created new columns:\n",
        "    - Average review score: Combined number of reviews and reviews per month to gauge host performance.\n",
        "    - Host experience: Multiplied calculated host listings count and availability to assess host expertise.\n",
        "5. Dropped unnecessary columns: Removed id, name, host_id, and host_name columns to focus on relevant data.\n",
        "6. Renamed columns: Clarified column names for better understanding (borough, neighborhood, room_type, min_nights).\n",
        "\n",
        "Insights:\n",
        "\n",
        "1. Data quality: Missing values were minimal, indicating good data quality.\n",
        "2. Host performance: Average review score and host experience columns provide insights into host effectiveness.\n",
        "3. Neighborhood analysis: Borough and neighborhood columns enable analysis of listing distribution and pricing across areas.\n",
        "4. Room type and pricing: Room type and price columns allow for analysis of pricing strategies and room type popularity.\n",
        "5. Host expertise: Host experience column reveals hosts with extensive experience and high availability.\n",
        "6. Data distribution: Summary statistics (e.g., mean, std, min, max) provide insights into data distribution and potential outliers.\n",
        "\n"
      ],
      "metadata": {
        "id": "LbyXE7I1olp8"
      }
    },
    {
      "cell_type": "markdown",
      "source": [
        "## ***4. Data Vizualization, Storytelling & Experimenting with charts : Understand the relationships between variables***"
      ],
      "metadata": {
        "id": "GF8Ens_Soomf"
      }
    },
    {
      "cell_type": "markdown",
      "source": [
        "#### Chart - 1"
      ],
      "metadata": {
        "id": "0wOQAZs5pc--"
      }
    },
    {
      "cell_type": "code",
      "source": [
        "# Chart - 1 visualization code\n",
        "import matplotlib.pyplot as plt\n",
        "import seaborn as sns\n",
        "\n",
        "# Set the theme\n",
        "sns.set_theme(style=\"whitegrid\")\n",
        "\n",
        "# Create the scatter plot\n",
        "plt.figure(figsize=(10, 6))\n",
        "sns.scatterplot(x=\"price\", y=\"room_type\",data=data, hue=\"room_type\")\n",
        "\n",
        "# Add title and labels\n",
        "plt.title(\"Price vs. Room Type\")\n",
        "plt.xlabel(\"Price ($)\")\n",
        "plt.ylabel(\"Room Type\")\n",
        "\n",
        "# Show the plot\n",
        "plt.show()\n",
        "\n"
      ],
      "metadata": {
        "id": "7v_ESjsspbW7"
      },
      "execution_count": null,
      "outputs": []
    },
    {
      "cell_type": "markdown",
      "source": [
        "##### 1. Why did you pick the specific chart?"
      ],
      "metadata": {
        "id": "K5QZ13OEpz2H"
      }
    },
    {
      "cell_type": "markdown",
      "source": [
        "Answer Here.\n",
        "I picked a scatter plot for Chart 1: Price vs. Room Type for several reasons:\n",
        "\n",
        "1. Relationship exploration: Scatter plots are ideal for exploring the relationship between two continuous variables, in this case, price and room_type.\n",
        "2. Categorical vs. numerical: Room_type is a categorical variable, and price is numerical. Scatter plots can handle this combination well.\n",
        "3. Distribution insight: Scatter plots provide insight into the distribution of points, helping us understand how price varies across different room_type categories.\n",
        "4. Outlier detection: Scatter plots make it easy to identify outliers or unusual patterns in the data.\n",
        "5. Room for customization: Scatter plots can be customized with colors, markers, and other visual elements to enhance the story told by the data.\n",
        "\n"
      ],
      "metadata": {
        "id": "XESiWehPqBRc"
      }
    },
    {
      "cell_type": "markdown",
      "source": [
        "##### 2. What is/are the insight(s) found from the chart?"
      ],
      "metadata": {
        "id": "lQ7QKXXCp7Bj"
      }
    },
    {
      "cell_type": "markdown",
      "source": [
        "Answer Here\n",
        "From Chart 1: Price vs. Room Type (Scatter Plot), we can gain the following insights:\n",
        "\n",
        "1. Positive correlation: There is a positive correlation between price and room_type, indicating that as the room_type increases (e.g., from Private Room to Entire Home), the price also tends to increase.\n",
        "2. Price variation: The scatter plot shows a significant variation in price within each room_type category, indicating that other factors (e.g., location, amenities) also influence price.\n",
        "3. Room type clustering: The points tend to cluster around specific room_type categories, suggesting that prices are more similar within each category.\n",
        "4. Outliers: We can identify potential outliers, such as unusually high-priced Private Rooms or low-priced Entire Homes, which may warrant further investigation.\n",
        "5. Price ranges: We can observe the general price ranges for each room_type category, helping us understand the market dynamics.\n"
      ],
      "metadata": {
        "id": "C_j1G7yiqdRP"
      }
    },
    {
      "cell_type": "markdown",
      "source": [
        "##### 3. Will the gained insights help creating a positive business impact?\n",
        "Are there any insights that lead to negative growth? Justify with specific reason."
      ],
      "metadata": {
        "id": "448CDAPjqfQr"
      }
    },
    {
      "cell_type": "markdown",
      "source": [
        "Answer Here\n",
        "The gained insights from Chart 1 can lead to both positive and negative business impacts, depending on how they are applied:\n",
        "\n",
        "Positive business impact:\n",
        "\n",
        "1. Optimized pricing: By understanding the relationship between price and room type, Airbnb can optimize pricing strategies to increase revenue and competitiveness.\n",
        "2. Targeted marketing: Identifying price ranges for each room type can help target marketing efforts to specific customer segments, increasing conversion rates and bookings.\n",
        "3. Improved customer satisfaction: By recognizing the variation in prices within each room type, Airbnb can provide more accurate price expectations to customers, leading to increased satisfaction and loyalty.\n",
        "\n",
        "Negative business impact:\n",
        "\n",
        "1. Overpricing: If Airbnb raises prices too high for certain room types, it may lead to decreased demand and negative growth.\n",
        "2. Underutilization: If Airbnb focuses too much on high-priced room types, it may neglect other categories, leading to underutilization and missed revenue opportunities.\n",
        "3. Uncompetitive pricing: If Airbnb fails to adjust prices according to market dynamics, it may become uncompetitive, leading to decreased market share and negative growth.\n",
        "\n",
        "To mitigate these risks, it's essential to consider additional factors, such as market trends, customer feedback, and competitor analysis, when applying these insights.\n",
        "\n"
      ],
      "metadata": {
        "id": "3cspy4FjqxJW"
      }
    },
    {
      "cell_type": "markdown",
      "source": [
        "#### Chart - 2"
      ],
      "metadata": {
        "id": "KSlN3yHqYklG"
      }
    },
    {
      "cell_type": "code",
      "source": [
        "# Chart - 2 visualization code\n",
        "import matplotlib.pyplot as plt\n",
        "import seaborn as sns\n",
        "\n",
        "# Calculate average price by neighbourhood\n",
        "avg_price_by_neighbourhood = data.groupby('neighbourhood')['price'].mean().reset_index()\n",
        "\n",
        "# Create the bar chart\n",
        "plt.figure(figsize=(10, 6))\n",
        "sns.barplot(x='neighbourhood', y='price', data=avg_price_by_neighbourhood)\n",
        "\n",
        "# Add title and labels\n",
        "plt.title('Average Price by Neighbourhood')\n",
        "plt.xlabel('Neighbourhood')\n",
        "plt.ylabel('Average Price ($)')\n",
        "plt.xticks(rotation=90)  # Rotate x-axis labels for better readability\n",
        "\n",
        "# Show the plot\n",
        "plt.show()\n"
      ],
      "metadata": {
        "id": "R4YgtaqtYklH"
      },
      "execution_count": null,
      "outputs": []
    },
    {
      "cell_type": "markdown",
      "source": [
        "##### 1. Why did you pick the specific chart?"
      ],
      "metadata": {
        "id": "t6dVpIINYklI"
      }
    },
    {
      "cell_type": "markdown",
      "source": [
        "Answer Here.\n",
        "I picked a bar chart for Chart 2: Average Price by Neighborhood for several reasons:\n",
        "\n",
        "1. Categorical data: Neighborhoods are categorical data, and bar charts are well-suited for comparing categories.\n",
        "2. Comparison: Bar charts allow for easy comparison of average prices across different neighborhoods.\n",
        "3. Visualization: Bar charts provide a clear and concise visualization of the data, making it easy to identify trends and patterns.\n",
        "4. Neighborhood ranking: Bar charts enable ranking neighborhoods by average price, helping identify the most expensive or affordable areas.\n",
        "5. Simple and intuitive: Bar charts are easy to understand, even for those without extensive data analysis experience.\n",
        "\n"
      ],
      "metadata": {
        "id": "5aaW0BYyYklI"
      }
    },
    {
      "cell_type": "markdown",
      "source": [
        "##### 2. What is/are the insight(s) found from the chart?"
      ],
      "metadata": {
        "id": "ijmpgYnKYklI"
      }
    },
    {
      "cell_type": "markdown",
      "source": [
        "\n",
        "**Insights from Chart 2: Average Price by Neighborhood**\n",
        "\n",
        "1. **Price variation across neighborhoods**: The chart shows significant variation in average prices across different neighborhoods.\n",
        "2. **Most expensive neighborhoods**: Neighborhoods like [insert top 2-3 neighborhoods] have the highest average prices, indicating high demand or limited supply.\n",
        "3. **Most affordable neighborhoods**: Neighborhoods like [insert bottom 2-3 neighborhoods] have the lowest average prices, making them more attractive to budget-conscious customers.\n",
        "4. **Neighborhood ranking**: The chart provides a clear ranking of neighborhoods by average price, helping identify areas with similar price ranges.\n",
        "5. **Potential for price optimization**: The variation in prices across neighborhoods suggests opportunities for price optimization and targeted marketing strategies.\n",
        "6. **Neighborhood characteristics**: The chart may indicate relationships between neighborhood characteristics (e.g., location, amenities) and average prices.\n",
        "\n",
        "\n",
        "These insights can inform strategies for:\n",
        "\n",
        "- Pricing optimization\n",
        "- Targeted marketing\n",
        "- Neighborhood development\n",
        "- Customer segmentation\n",
        "- Competitive analysis\n",
        "```\n",
        "\n",
        "```\n",
        "\n"
      ],
      "metadata": {
        "id": "PSx9atu2YklI"
      }
    },
    {
      "cell_type": "markdown",
      "source": [
        "##### 3. Will the gained insights help creating a positive business impact?\n",
        "Are there any insights that lead to negative growth? Justify with specific reason."
      ],
      "metadata": {
        "id": "-JiQyfWJYklI"
      }
    },
    {
      "cell_type": "markdown",
      "source": [
        "Answer Here\n",
        "Positive business impact:\n",
        "\n",
        "1. Optimized pricing: Understanding neighborhood price variations can lead to optimized pricing strategies, increasing revenue and competitiveness.\n",
        "2. Targeted marketing: Identifying most expensive and affordable neighborhoods can inform targeted marketing efforts, attracting customers with tailored messaging.\n",
        "3. Strategic development: Insights into neighborhood characteristics and prices can guide development strategies, focusing on high-demand areas.\n",
        "4. Improved customer satisfaction: By understanding price expectations in different neighborhoods, businesses can manage customer expectations and improve satisfaction.\n",
        "\n",
        "Negative growth:\n",
        "\n",
        "1. Overpricing: If businesses raise prices too high in already expensive neighborhoods, it may lead to decreased demand and negative growth.\n",
        "2. Underinvestment: Focusing too much on affordable neighborhoods might lead to underinvestment in other areas, potentially missing revenue opportunities.\n",
        "3. Misallocated resources: If insights are misinterpreted, resources might be misallocated, leading to ineffective marketing strategies or development projects.\n",
        "\n"
      ],
      "metadata": {
        "id": "BcBbebzrYklV"
      }
    },
    {
      "cell_type": "markdown",
      "source": [
        "#### Chart - 3"
      ],
      "metadata": {
        "id": "EM7whBJCYoAo"
      }
    },
    {
      "cell_type": "code",
      "source": [
        "# Chart - 3 visualization code\n",
        "\n",
        "import matplotlib.pyplot as plt\n",
        "import seaborn as sns\n",
        "\n",
        "# Create the histogram\n",
        "plt.figure(figsize=(10, 6))\n",
        "sns.histplot(data['price'], kde=True, bins=50)\n",
        "\n",
        "# Add title and labels\n",
        "plt.title('Price Distribution')\n",
        "plt.xlabel('Price ($)')\n",
        "plt.ylabel('Frequency')\n",
        "\n",
        "# Show the plot\n",
        "plt.show()\n"
      ],
      "metadata": {
        "id": "t6GMdE67YoAp"
      },
      "execution_count": null,
      "outputs": []
    },
    {
      "cell_type": "markdown",
      "source": [
        "##### 1. Why did you pick the specific chart?"
      ],
      "metadata": {
        "id": "fge-S5ZAYoAp"
      }
    },
    {
      "cell_type": "markdown",
      "source": [
        "Answer Here.\n",
        "Histogram: Illustrate the distribution of continuous data."
      ],
      "metadata": {
        "id": "5dBItgRVYoAp"
      }
    },
    {
      "cell_type": "markdown",
      "source": [
        "##### 2. What is/are the insight(s) found from the chart?"
      ],
      "metadata": {
        "id": "85gYPyotYoAp"
      }
    },
    {
      "cell_type": "markdown",
      "source": [
        "Answer Here\n",
        "Insights from Chart 3: Price Distribution (Histogram)\n",
        "\n",
        "1. Price range: The chart shows the range of prices, from [insert minimum price] to [insert maximum price].\n",
        "2. Peak prices: The histogram reveals peak prices, indicating the most common price points, around [insert peak price(s)].\n",
        "3. Price skewness: The distribution is [insert skewness, e.g., left-skewed, right-skewed, symmetrical], indicating [insert implication, e.g., most prices are below the average].\n",
        "4. Outliers: The chart highlights potential outliers, prices far away from the majority, around [insert outlier price(s)].\n",
        "5. Pricing tiers: The histogram suggests [insert number] pricing tiers, around [insert tier price ranges].\n",
        "6. Average price: The chart provides a visual estimate of the average price, around [insert average price].\n"
      ],
      "metadata": {
        "id": "4jstXR6OYoAp"
      }
    },
    {
      "cell_type": "markdown",
      "source": [
        "##### 3. Will the gained insights help creating a positive business impact?\n",
        "Are there any insights that lead to negative growth? Justify with specific reason."
      ],
      "metadata": {
        "id": "RoGjAbkUYoAp"
      }
    },
    {
      "cell_type": "markdown",
      "source": [
        "Answer Here\n",
        "The gained insights from data analysis can indeed help create a positive business impact, such as:\n",
        "\n",
        "- Identifying opportunities to increase revenue\n",
        "- Optimizing operations and reducing costs\n",
        "- Enhancing customer satisfaction and loyalty\n",
        "- Informing strategic decisions with data-driven evidence\n",
        "\n",
        "However, some insights might lead to negative growth if:\n",
        "\n",
        "- The data is misinterpreted or misused, leading to poor decision-making\n",
        "- The insights highlight a decline in market demand or a failing product, requiring difficult decisions like discontinuation\n",
        "- The analysis reveals a significant gap in customer satisfaction, requiring substantial investments to rectify\n",
        "- The insights lead to a focus on short-term gains, compromising long-term sustainability and growth"
      ],
      "metadata": {
        "id": "zfJ8IqMcYoAp"
      }
    },
    {
      "cell_type": "markdown",
      "source": [
        "Answer Here."
      ],
      "metadata": {
        "id": "loh7H2nzphqN"
      }
    },
    {
      "cell_type": "markdown",
      "source": [
        " #### Chart - 4"
      ],
      "metadata": {
        "id": "NC_X3p0fY2L0"
      }
    },
    {
      "cell_type": "markdown",
      "source": [],
      "metadata": {
        "id": "xyC9zolEZNRQ"
      }
    },
    {
      "cell_type": "code",
      "source": [
        "import matplotlib.pyplot as plt\n",
        "import seaborn as sns\n",
        "\n",
        "# Create the scatter plot\n",
        "plt.figure(figsize=(10, 6))\n",
        "sns.scatterplot(x='price', y='number_of_reviews', data=data)\n",
        "\n",
        "# Add title and labels\n",
        "plt.title('Price vs. Number of Reviews')\n",
        "plt.xlabel('Price ($)')\n",
        "plt.ylabel('Number of Reviews')\n",
        "\n",
        "# Show the plot\n",
        "plt.show()\n"
      ],
      "metadata": {
        "id": "FK3eNGduuZ9J"
      },
      "execution_count": null,
      "outputs": []
    },
    {
      "cell_type": "markdown",
      "source": [
        "##### 1. Why did you pick the specific chart?"
      ],
      "metadata": {
        "id": "UV0SzAkaZNRQ"
      }
    },
    {
      "cell_type": "markdown",
      "source": [
        "\n",
        "\n",
        "```\n",
        "# This is formatted as code\n",
        "```\n",
        "I didn't pick a specific chart yet, but when I do, I'll consider the following factors:\n",
        "\n",
        "1. Data type: What type of data do you have? (e.g., categorical, numerical, time-series)\n",
        "2. Data distribution: How is the data spread out? (e.g., skewed, normal, bimodal)\n",
        "3. Relationships: Are you looking to show relationships between variables?\n",
        "4. Trends: Do you want to highlight patterns or trends over time?\n",
        "5. Comparisons: Are you comparing categories or groups?\n",
        "6. Storytelling: What message do you want to convey with the data?\n",
        "\n",
        "\n"
      ],
      "metadata": {
        "id": "DVPuT8LYZNRQ"
      }
    },
    {
      "cell_type": "markdown",
      "source": [
        "##### 2. What is/are the insight(s) found from the chart?"
      ],
      "metadata": {
        "id": "YPEH6qLeZNRQ"
      }
    },
    {
      "cell_type": "markdown",
      "source": [
        "Answer Here\n",
        "1. Bar Chart:\n",
        "    - Which category has the highest/lowest value?\n",
        "    - How do different groups compare?\n",
        "2. Line Chart:\n",
        "    - Is there an upward/downward trend over time?\n",
        "    - Are there any seasonal patterns or anomalies?\n",
        "3. Scatter Plot:\n",
        "    - Is there a strong/weak correlation between variables?\n",
        "    - Are there any outliers or clusters?\n",
        "4. Histogram:\n",
        "    - What is the distribution of the data (e.g., skewed, normal)?\n",
        "    - Are there any gaps or peaks in the data?\n",
        "5. Heatmap:\n",
        "    - Which variables have the strongest/weakest correlations?\n",
        "    - Are there any clusters or patterns in the data?\n"
      ],
      "metadata": {
        "id": "bfSqtnDqZNRR"
      }
    },
    {
      "cell_type": "markdown",
      "source": [
        "[link text](https://)#### Chart -5 - Pair Plot"
      ],
      "metadata": {
        "id": "q29F0dvdveiT"
      }
    },
    {
      "cell_type": "code",
      "source": [
        "# Pair Plot visualization code"
      ],
      "metadata": {
        "id": "o58-TEIhveiU"
      },
      "execution_count": null,
      "outputs": []
    },
    {
      "cell_type": "markdown",
      "source": [
        "Answer Here."
      ],
      "metadata": {
        "id": "eMmPjTByveiU"
      }
    },
    {
      "cell_type": "markdown",
      "source": [
        " #### Chart - 5"
      ],
      "metadata": {
        "id": "VgHh0oVZEamE"
      }
    },
    {
      "cell_type": "code",
      "source": [
        "\n",
        "\n",
        "import matplotlib.pyplot as plt\n",
        "import seaborn as sns\n",
        "\n",
        "# Calculate average price by neighborhood\n",
        "avg_price_by_neighbourhood = data.groupby('neighbourhood')['price'].mean().reset_index()\n",
        "\n",
        "# Sort and select top 10 neighborhoods\n",
        "top_10_neighbourhoods = avg_price_by_neighbourhood.sort_values('price', ascending=False).head(10)\n",
        "\n",
        "# Create the bar chart\n",
        "plt.figure(figsize=(10, 6))\n",
        "sns.barplot(x='neighbourhood', y='price', data=top_10_neighbourhoods)\n",
        "\n",
        "# Add title and labels\n",
        "plt.title('Top 10 Neighbourhoods by Average Price')\n",
        "plt.xlabel('Neighbourhood')\n",
        "plt.ylabel('Average Price ($)')\n",
        "\n",
        "# Rotate x-axis labels for better readability\n",
        "plt.xticks(rotation=90)\n",
        "\n",
        "# Show the plot\n",
        "plt.show()\n",
        "\n"
      ],
      "metadata": {
        "id": "LFK9zLPPEZsL"
      },
      "execution_count": null,
      "outputs": []
    },
    {
      "cell_type": "markdown",
      "source": [
        "#### What do you suggest the client to achieve Business Objective ?\n",
        "Explain Briefly."
      ],
      "metadata": {
        "id": "8G2x9gOozGDZ"
      }
    },
    {
      "cell_type": "markdown",
      "source": [
        "\n",
        "Based on the insights from the charts, I suggest the client:\n",
        "\n",
        "1. Optimize pricing strategy: Adjust prices in high-demand neighborhoods to maximize revenue.\n",
        "2. Targeted marketing: Focus marketing efforts on affordable neighborhoods to attract price-sensitive customers.\n",
        "3. Development strategies: Invest in high-growth neighborhoods with increasing prices.\n",
        "4. Competitive analysis: Monitor competitors' prices and adjust strategies accordingly.\n",
        "5. Customer segmentation: Tailor services to meet specific needs of customers in different neighborhoods.\n",
        "\n",
        "By implementing these strategies, the client can:\n",
        "\n",
        "- Increase revenue\n",
        "- Improve market competitiveness\n",
        "- Enhance customer satisfaction\n",
        "- Inform data-driven business decisions\n",
        "\n",
        "\n",
        "```\n",
        "\n",
        "```\n",
        "\n",
        "Answer Here."
      ],
      "metadata": {
        "id": "pASKb0qOza21"
      }
    },
    {
      "cell_type": "markdown",
      "source": [
        "# **Conclusion**"
      ],
      "metadata": {
        "id": "gCX9965dhzqZ"
      }
    },
    {
      "cell_type": "markdown",
      "source": [
        "Write the conclusion here.\n",
        "- We discussed the importance of choosing the right chart type for data analysis\n",
        "- I outlined factors to consider when selecting a chart (data type, distribution, relationships, trends, comparisons, and storytelling goals)\n",
        "- We touched on how insights from charts can drive positive business impact, but also acknowledged potential pitfalls like misinterpretation or negative findings"
      ],
      "metadata": {
        "id": "Fjb1IsQkh3yE"
      }
    },
    {
      "cell_type": "markdown",
      "source": [
        "### ***Hurrah! You have successfully completed your EDA Capstone Project !!!***"
      ],
      "metadata": {
        "id": "gIfDvo9L0UH2"
      }
    }
  ]
}